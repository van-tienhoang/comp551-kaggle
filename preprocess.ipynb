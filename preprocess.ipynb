{
 "cells": [
  {
   "cell_type": "code",
   "execution_count": 120,
   "metadata": {},
   "outputs": [],
   "source": [
    "%matplotlib inline\n",
    "import numpy as np # linear algebra\n",
    "import pandas as pd # data processing, CSV file I/O (e.g. pd.read_csv)\n",
    "import matplotlib.pyplot as plt\n",
    "import seaborn as sns\n",
    "from scipy import ndimage\n",
    "from skimage import measure"
   ]
  },
  {
   "cell_type": "code",
   "execution_count": 121,
   "metadata": {},
   "outputs": [
    {
     "name": "stdout",
     "output_type": "stream",
     "text": [
      "['train_labels.csv', '.DS_Store', 'train_images.npy', 'test_images.npy']\n"
     ]
    }
   ],
   "source": [
    "import os\n",
    "print(os.listdir(\"../data\"))"
   ]
  },
  {
   "cell_type": "code",
   "execution_count": 122,
   "metadata": {},
   "outputs": [],
   "source": [
    "images_train = np.load('../data/train_images.npy', encoding='latin1')\n",
    "images_train = images_train[:,1]\n",
    "images_train = images_train.tolist()\n",
    "for i in range(len(images_train)):\n",
    "    images_train[i]=images_train[i].reshape(100,100)"
   ]
  },
  {
   "cell_type": "code",
   "execution_count": 123,
   "metadata": {},
   "outputs": [],
   "source": [
    "contour=[]\n",
    "#for i in range(len(images_train)):\n",
    "j=702\n",
    "contour.append(measure.find_contours(images_train[j],0.8))"
   ]
  },
  {
   "cell_type": "code",
   "execution_count": 126,
   "metadata": {},
   "outputs": [
    {
     "name": "stdout",
     "output_type": "stream",
     "text": [
      "113 49\n"
     ]
    }
   ],
   "source": [
    "j=0\n",
    "c=0\n",
    "for n,i in enumerate(contour[j]):\n",
    "    if len(i)>c:\n",
    "        c = len(i)\n",
    "        idx = n\n",
    "\n",
    "print(c,idx)"
   ]
  },
  {
   "cell_type": "code",
   "execution_count": 132,
   "metadata": {},
   "outputs": [
    {
     "data": {
      "text/plain": [
       "[<matplotlib.lines.Line2D at 0x1c1ef2a390>]"
      ]
     },
     "execution_count": 132,
     "metadata": {},
     "output_type": "execute_result"
    },
    {
     "data": {
      "image/png": "[encoded data removed]",
      "text/plain": [
       "<Figure size 432x288 with 1 Axes>"
      ]
     },
     "metadata": {
      "needs_background": "light"
     },
     "output_type": "display_data"
    }
   ],
   "source": [
    "plt.plot(contour[j][idx][:, 1], contour[j][idx][:, 0], linewidth=2)"
   ]
  },
  {
   "cell_type": "code",
   "execution_count": 140,
   "metadata": {},
   "outputs": [
    {
     "name": "stdout",
     "output_type": "stream",
     "text": [
      "20 43 44 71\n"
     ]
    }
   ],
   "source": [
    "ymin = int(round(min(contour[j][idx][:,0])))\n",
    "xmin = int(round(min(contour[j][idx][:,1])))\n",
    "ymax = int(round(max(contour[j][idx][:,0])))\n",
    "xmax = int(round(max(contour[j][idx][:,1])))\n",
    "\n",
    "\n",
    "print(xmin,xmax,ymin,ymax)\n",
    "image_crop = images_train[702][ymin:ymax,xmin:xmax]"
   ]
  },
  {
   "cell_type": "code",
   "execution_count": 141,
   "metadata": {},
   "outputs": [
    {
     "data": {
      "text/plain": [
       "<matplotlib.image.AxesImage at 0x1c1ec877f0>"
      ]
     },
     "execution_count": 141,
     "metadata": {},
     "output_type": "execute_result"
    },
    {
     "data": {
      "image/png": "[encoded data removed]",
      "text/plain": [
       "<Figure size 432x288 with 1 Axes>"
      ]
     },
     "metadata": {
      "needs_background": "light"
     },
     "output_type": "display_data"
    }
   ],
   "source": [
    "plt.imshow(image_crop)"
   ]
  }
 ],
 "metadata": {
  "kernelspec": {
   "display_name": "Python 3",
   "language": "python",
   "name": "python3"
  },
  "language_info": {
   "codemirror_mode": {
    "name": "ipython",
    "version": 3
   },
   "file_extension": ".py",
   "mimetype": "text/x-python",
   "name": "python",
   "nbconvert_exporter": "python",
   "pygments_lexer": "ipython3",
   "version": "3.7.0"
  }
 },
 "nbformat": 4,
 "nbformat_minor": 2
}
