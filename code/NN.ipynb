{
 "cells": [
  {
   "cell_type": "code",
   "execution_count": 1,
   "metadata": {},
   "outputs": [],
   "source": [
    "import numpy as np\n",
    "import csv\n",
    "import string\n",
    "\n",
    "x_train = np.genfromtxt('processed_train.txt', delimiter=',')\n",
    "x_train = np.delete(x_train,-1,axis = 1)\n",
    "x_test = np.genfromtxt('processed_test.txt', delimiter=',')\n",
    "x_test = np.delete(x_test,-1,axis = 1)\n",
    "with open('../data/train_labels.csv') as f:\n",
    "    reader = csv.reader(f, delimiter=\",\")\n",
    "    label_train = list(reader)   \n",
    "del label_train[0]\n",
    "label_train = np.asarray(label_train)[:,1]\n",
    "label_train = label_train.tolist()\n",
    "\n",
    "import pandas as pd\n",
    "from sklearn.preprocessing import LabelEncoder\n",
    "\n",
    "df = pd.read_csv('../data/train_labels.csv')\n",
    "obj_df = df.select_dtypes(include=['object']).copy()\n",
    "obj_df.head()\n",
    "\n",
    "lb_class = LabelEncoder()\n",
    "obj_df['Category_code']=lb_class.fit_transform(obj_df['Category'])\n",
    "obj_df[['Category','Category_code']]\n",
    "y_train = np.asarray(obj_df)[:,1]\n",
    "y_train = y_train.astype('int')"
   ]
  },
  {
   "cell_type": "code",
   "execution_count": 29,
   "metadata": {},
   "outputs": [],
   "source": [
    "sample_size = x_train[0:5000].shape[0]\n",
    "in_dim = x_train[0:5000].shape[1]\n",
    "out_dim = x_train[0:5000].shape[0]\n",
    "\n",
    "#NN model and train\n",
    "def modelbuiler(n_layer, dim_layer, itera=100):\n",
    "    W = []\n",
    "    b = []\n",
    "    W.append(np.random.rand(dim_layer,in_dim))\n",
    "    b.append(np.zeros((len(W[0]),len(x_train[0:5000]))))\n",
    "    if n_layer>=3:\n",
    "        for i in range(1,n_layer-1):\n",
    "            W.append(np.random.rand(dim_layer,W[i-1].shape[0]))\n",
    "            b.append(np.zeros((len(W[i]),len(x_train[0:5000]))))\n",
    "    if n_layer>=2:\n",
    "        W.append(np.random.randn(31, W[len(W)-1].shape[0]))\n",
    "        b.append(np.zeros((31,out_dim)))\n",
    "    model = {}\n",
    "    \n",
    "    for iteration in range(0,itera):\n",
    "        #Forward Prop\n",
    "        z=[]\n",
    "        a=[]\n",
    "        z.append(W[0].dot(x_train[0:5000].T)+b[0])\n",
    "        a.append(np.tanh(z[0]))\n",
    "        if n_layer >=3:\n",
    "            for i in range(1,n_layer-1):\n",
    "                z.append(W[i].dot(a[i-1])+b[i])\n",
    "                a.append(np.exp(z[i])/(1+sum(np.exp(z[i]))))\n",
    "        if n_layer>=2:\n",
    "            z.append(W[-1].dot(a[-1])+b[-1])\n",
    "        score = np.exp(z[-1])\n",
    "        prob = score/np.sum(score,axis=0,keepdims=True)\n",
    "        yt_prob = np.zeros_like(prob)\n",
    "        for i in range(0,5000):\n",
    "            yt_prob[y_train[i],i] = 1\n",
    "        \n",
    "        #Back Prop\n",
    "        delta = []\n",
    "        dW=[]\n",
    "        db=[]\n",
    "        delta.append(prob-yt_prob)\n",
    "        dW.append(delta[0].dot(a[-1].T))\n",
    "        db.append(np.sum(delta[0],axis = 0, keepdims=True))\n",
    "        for i in range(1,n_layer-1):\n",
    "            db.append(np.sum(delta[i-1],axis = 0, keepdims=True))\n",
    "            delta.append(W[-i].T.dot(delta[-1])*(1-np.power(a[-i],2)))\n",
    "            dW.append(delta[i].dot(a[-i-1].T))\n",
    "        delta.append(W[1].T.dot(delta[-1])*(1-np.power(a[1],2)))\n",
    "        db.append(np.sum(delta[-1],axis = 0, keepdims=True))\n",
    "        dW.append(delta[-1].dot(x_train[0:5000]))\n",
    "        for i in range(0,len(W)):\n",
    "            W[i]+=-epsilon*dW[-i-1]\n",
    "            b[i]+=-epsilon*db[-i-1]\n",
    "        \n",
    "    model={'W':W, 'b':b}\n",
    "    return model\n",
    "\n",
    "#Estimate x\n",
    "def guess(model, x):\n",
    "    W, b = model['W'], model['b']\n",
    "    z=[]\n",
    "    a=[]\n",
    "    z.append(W[0].dot(x_train[0:5000].T)+b[0])\n",
    "    a.append(np.tanh(z[0]))\n",
    "    if layer_number >=3:\n",
    "        for i in range(1,layer_number-1):\n",
    "            z.append(W[i].dot(a[i-1])+b[i])\n",
    "            a.append(np.exp(z[i])/(1+sum(np.exp(z[i]))))\n",
    "    if layer_number>=2:\n",
    "        z.append(W[-1].dot(a[-1])+b[-1])\n",
    "    score = np.exp(z[-1])\n",
    "    prob = score/np.sum(score,axis=0,keepdims=True)\n",
    "    return prob\n",
    "\n"
   ]
  },
  {
   "cell_type": "code",
   "execution_count": 31,
   "metadata": {},
   "outputs": [
    {
     "name": "stdout",
     "output_type": "stream",
     "text": [
      "[[[4807.]]]\n"
     ]
    }
   ],
   "source": [
    "#Utilize NN Cross Validation\n",
    "y_true = y_train[5000:10000]\n",
    "epsilon_valid = [0.00001]\n",
    "layer_number_valid = [4]\n",
    "layer_dimension_valid = [30]\n",
    "error = np.zeros((len(epsilon_valid),len(layer_number_valid),len(layer_dimension_valid)))\n",
    "for i,epsilon in enumerate(epsilon_valid):\n",
    "    for j,layer_number in enumerate(layer_number_valid):\n",
    "        for k,layer_dimension in enumerate(layer_dimension_valid):\n",
    "            model = modelbuiler(layer_number,layer_dimension)\n",
    "            y_prob = guess(model, x_train[5000:10000])\n",
    "            result = np.argmax(y_prob,0)\n",
    "            diff = y_true-result\n",
    "            diff = diff.astype(bool).astype(int)\n",
    "            error[i,j,k] = sum(diff)\n",
    "            print(error)"
   ]
  },
  {
   "cell_type": "code",
   "execution_count": 32,
   "metadata": {},
   "outputs": [],
   "source": [
    "min_error = []\n",
    "min_error_loc = []\n",
    "for i in error:\n",
    "    for j in i:\n",
    "        min_error.append(min(j))\n",
    "for i in np.where(error==min(min_error)):\n",
    "    min_error_loc.append(i[0])\n",
    "epsilon = epsilon_valid[min_error_loc[0]]\n",
    "layer_number = layer_number_valid[min_error_loc[1]]\n",
    "layer_dimension = layer_dimension_valid[min_error_loc[2]]"
   ]
  },
  {
   "cell_type": "code",
   "execution_count": 33,
   "metadata": {},
   "outputs": [
    {
     "name": "stdout",
     "output_type": "stream",
     "text": [
      "4\n",
      "0.030541903563791464\n",
      "              precision    recall  f1-score   support\n",
      "\n",
      "           0       0.00      0.00      0.00       169\n",
      "           1       0.00      0.00      0.00       160\n",
      "           2       0.00      0.00      0.00       229\n",
      "           3       0.00      0.00      0.00       287\n",
      "           4       0.00      0.00      0.00       196\n",
      "           5       0.00      0.00      0.00       202\n",
      "           6       0.00      0.00      0.00       113\n",
      "           7       0.00      0.00      0.00       236\n",
      "           8       0.00      0.00      0.00       139\n",
      "           9       0.02      1.00      0.04       110\n",
      "          10       0.00      0.00      0.00        92\n",
      "          11       0.00      0.00      0.00       102\n",
      "          12       0.00      0.00      0.00       106\n",
      "          13       0.00      0.00      0.00       129\n",
      "          14       0.00      0.00      0.00       163\n",
      "          15       0.00      0.00      0.00       138\n",
      "          16       0.00      0.00      0.00       255\n",
      "          17       0.00      0.00      0.00       250\n",
      "          18       0.00      0.00      0.00       193\n",
      "          19       0.00      0.00      0.00       108\n",
      "          20       0.00      0.00      0.00       201\n",
      "          21       0.00      0.00      0.00       140\n",
      "          22       0.00      0.00      0.00       208\n",
      "          23       0.00      0.00      0.00       177\n",
      "          24       0.00      0.00      0.00        91\n",
      "          25       0.00      0.00      0.00       140\n",
      "          26       0.00      0.00      0.00       135\n",
      "          27       0.00      0.00      0.00       210\n",
      "          28       0.00      0.00      0.00       144\n",
      "          29       0.00      0.00      0.00        85\n",
      "          30       0.00      0.00      0.00        92\n",
      "\n",
      "   micro avg       0.02      0.02      0.02      5000\n",
      "   macro avg       0.00      0.03      0.00      5000\n",
      "weighted avg       0.00      0.02      0.00      5000\n",
      "\n",
      "[9 9 9 ... 9 9 9]\n"
     ]
    },
    {
     "name": "stderr",
     "output_type": "stream",
     "text": [
      "/anaconda3/lib/python3.7/site-packages/sklearn/metrics/classification.py:1143: UndefinedMetricWarning: Precision and F-score are ill-defined and being set to 0.0 in labels with no predicted samples.\n",
      "  'precision', 'predicted', average, warn_for)\n"
     ]
    }
   ],
   "source": [
    "from sklearn.metrics import classification_report\n",
    "\n",
    "y_true = y_train[5000:10000]\n",
    "print(layer_number)\n",
    "model = modelbuiler(layer_number,layer_dimension)\n",
    "y_prob = guess(model, x_train[5000:10000])\n",
    "print(max(y_prob[0]))\n",
    "result = np.argmax(y_prob,0)\n",
    "print(classification_report(y_true, result))\n",
    "print(result)"
   ]
  },
  {
   "cell_type": "code",
   "execution_count": 21,
   "metadata": {},
   "outputs": [
    {
     "name": "stdout",
     "output_type": "stream",
     "text": [
      "(30, 901)\n",
      "(30, 30)\n",
      "(30, 30)\n",
      "(31, 30)\n"
     ]
    }
   ],
   "source": [
    "W=model['W']\n",
    "for i in W:\n",
    "    print(i.shape)"
   ]
  },
  {
   "cell_type": "code",
   "execution_count": 7,
   "metadata": {},
   "outputs": [
    {
     "ename": "NameError",
     "evalue": "name 'y_pred' is not defined",
     "output_type": "error",
     "traceback": [
      "\u001b[0;31m---------------------------------------------------------------------------\u001b[0m",
      "\u001b[0;31mNameError\u001b[0m                                 Traceback (most recent call last)",
      "\u001b[0;32m<ipython-input-7-5e482a942517>\u001b[0m in \u001b[0;36m<module>\u001b[0;34m()\u001b[0m\n\u001b[0;32m----> 1\u001b[0;31m \u001b[0mcls\u001b[0m \u001b[0;34m=\u001b[0m \u001b[0mlb_class\u001b[0m\u001b[0;34m.\u001b[0m\u001b[0minverse_transform\u001b[0m\u001b[0;34m(\u001b[0m\u001b[0my_pred\u001b[0m\u001b[0;34m)\u001b[0m\u001b[0;34m.\u001b[0m\u001b[0mtolist\u001b[0m\u001b[0;34m(\u001b[0m\u001b[0;34m)\u001b[0m\u001b[0;34m\u001b[0m\u001b[0m\n\u001b[0m\u001b[1;32m      2\u001b[0m \u001b[0mlabel\u001b[0m \u001b[0;34m=\u001b[0m \u001b[0mlist\u001b[0m\u001b[0;34m(\u001b[0m\u001b[0mrange\u001b[0m\u001b[0;34m(\u001b[0m\u001b[0;36m0\u001b[0m\u001b[0;34m,\u001b[0m\u001b[0;36m10000\u001b[0m\u001b[0;34m)\u001b[0m\u001b[0;34m)\u001b[0m\u001b[0;34m\u001b[0m\u001b[0m\n\u001b[1;32m      3\u001b[0m \u001b[0mID\u001b[0m \u001b[0;34m=\u001b[0m \u001b[0;34m[\u001b[0m\u001b[0;34m'Id'\u001b[0m\u001b[0;34m]\u001b[0m\u001b[0;34m\u001b[0m\u001b[0m\n\u001b[1;32m      4\u001b[0m \u001b[0mCat\u001b[0m \u001b[0;34m=\u001b[0m \u001b[0;34m[\u001b[0m\u001b[0;34m'Category'\u001b[0m\u001b[0;34m]\u001b[0m\u001b[0;34m\u001b[0m\u001b[0m\n\u001b[1;32m      5\u001b[0m \u001b[0mID\u001b[0m\u001b[0;34m.\u001b[0m\u001b[0mextend\u001b[0m\u001b[0;34m(\u001b[0m\u001b[0mlabel\u001b[0m\u001b[0;34m)\u001b[0m\u001b[0;34m\u001b[0m\u001b[0m\n",
      "\u001b[0;31mNameError\u001b[0m: name 'y_pred' is not defined"
     ]
    }
   ],
   "source": [
    "cls = lb_class.inverse_transform(y_pred).tolist()\n",
    "label = list(range(0,10000))\n",
    "ID = ['Id']\n",
    "Cat = ['Category']\n",
    "ID.extend(label)\n",
    "Cat.extend(cls)\n",
    "a=[]\n",
    "a.append(ID)\n",
    "a.append(Cat)\n",
    "print(a)\n",
    "\n",
    "with open('result_NN.csv', 'w') as f:\n",
    "    for i in range(0,10001):\n",
    "        f.write(\"%s, %s\\n\" %(a[0][i], a[1][i]))"
   ]
  }
 ],
 "metadata": {
  "kernelspec": {
   "display_name": "Python 3",
   "language": "python",
   "name": "python3"
  },
  "language_info": {
   "codemirror_mode": {
    "name": "ipython",
    "version": 3
   },
   "file_extension": ".py",
   "mimetype": "text/x-python",
   "name": "python",
   "nbconvert_exporter": "python",
   "pygments_lexer": "ipython3",
   "version": "3.7.0"
  }
 },
 "nbformat": 4,
 "nbformat_minor": 2
}
