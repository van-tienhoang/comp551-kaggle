{
 "cells": [
  {
   "cell_type": "code",
   "execution_count": null,
   "metadata": {},
   "outputs": [],
   "source": [
    "%matplotlib inline\n",
    "import numpy as np # linear algebra\n",
    "import pandas as pd # data processing, CSV file I/O (e.g. pd.read_csv)\n",
    "import matplotlib.pyplot as plt\n",
    "import seaborn as sns\n",
    "from scipy import ndimage\n",
    "from skimage import measure"
   ]
  },
  {
   "cell_type": "code",
   "execution_count": null,
   "metadata": {},
   "outputs": [],
   "source": [
    "import os\n",
    "print(os.listdir(\"../data\"))"
   ]
  },
  {
   "cell_type": "code",
   "execution_count": 7,
   "metadata": {},
   "outputs": [],
   "source": [
    "images_train = np.load('../data/train_images.npy', encoding='latin1')\n",
    "images_train = images_train[:,1]\n",
    "images_train = images_train.tolist()\n",
    "for i in range(len(images_train)):\n",
    "    images_train[i]=images_train[i].reshape(100,100)\n",
    "import csv\n",
    "import string\n",
    "with open('../data/train_labels.csv') as f:\n",
    "    reader = csv.reader(f, delimiter=\",\")\n",
    "    label_train = list(reader)   \n",
    "del label_train[0]"
   ]
  },
  {
   "cell_type": "code",
   "execution_count": 8,
   "metadata": {},
   "outputs": [
    {
     "data": {
      "text/plain": [
       "<matplotlib.image.AxesImage at 0x1c1fd9d2e8>"
      ]
     },
     "execution_count": 8,
     "metadata": {},
     "output_type": "execute_result"
    },
    {
     "data": {
      "image/png": "[encoded data removed]",
      "text/plain": [
       "<Figure size 432x288 with 1 Axes>"
      ]
     },
     "metadata": {
      "needs_background": "light"
     },
     "output_type": "display_data"
    }
   ],
   "source": [
    "plt.imshow(images_train[325])"
   ]
  },
  {
   "cell_type": "code",
   "execution_count": 9,
   "metadata": {},
   "outputs": [],
   "source": [
    "contour=[]\n",
    "image_crop = []\n",
    "for j in range(len(images_train)):\n",
    "    contour.append(measure.find_contours(images_train[j],0.1))\n",
    "    c=0\n",
    "    for n,i in enumerate(contour[j]):\n",
    "        if len(i)>c:\n",
    "            c = len(i)\n",
    "            idx = n\n",
    "    for i in range(0,len(contour[j])):\n",
    "        if i!=idx:\n",
    "            ymin = int(round(min(contour[j][i][:,0])))\n",
    "            xmin = int(round(min(contour[j][i][:,1])))\n",
    "            ymax = int(round(max(contour[j][i][:,0])))\n",
    "            xmax = int(round(max(contour[j][i][:,1])))\n",
    "            images_train[j][ymin:ymax,xmin:xmax] = np.zeros(images_train[j][ymin:ymax,xmin:xmax].shape)\n",
    "    ymin = int(round(min(contour[j][idx][:,0])))\n",
    "    xmin = int(round(min(contour[j][idx][:,1])))\n",
    "    ymax = int(round(max(contour[j][idx][:,0])))\n",
    "    xmax = int(round(max(contour[j][idx][:,1])))\n",
    "    image_crop.append(images_train[j][ymin+1:ymax-1,xmin+1:xmax-1])"
   ]
  },
  {
   "cell_type": "code",
   "execution_count": 10,
   "metadata": {},
   "outputs": [
    {
     "name": "stdout",
     "output_type": "stream",
     "text": [
      "['325', 'rollerskates']\n"
     ]
    },
    {
     "data": {
      "image/png": "[encoded data removed]",
      "text/plain": [
       "<Figure size 432x288 with 1 Axes>"
      ]
     },
     "metadata": {
      "needs_background": "light"
     },
     "output_type": "display_data"
    }
   ],
   "source": [
    "i=325\n",
    "plt.imshow(image_crop[i])\n",
    "print(label_train[i])"
   ]
  }
 ],
 "metadata": {
  "kernelspec": {
   "display_name": "Python 3",
   "language": "python",
   "name": "python3"
  },
  "language_info": {
   "codemirror_mode": {
    "name": "ipython",
    "version": 3
   },
   "file_extension": ".py",
   "mimetype": "text/x-python",
   "name": "python",
   "nbconvert_exporter": "python",
   "pygments_lexer": "ipython3",
   "version": "3.7.0"
  }
 },
 "nbformat": 4,
 "nbformat_minor": 2
}
