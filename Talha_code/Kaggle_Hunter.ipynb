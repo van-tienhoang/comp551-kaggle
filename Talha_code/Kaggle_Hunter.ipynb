{
 "cells": [
  {
   "cell_type": "code",
   "execution_count": 200,
   "metadata": {},
   "outputs": [
    {
     "ename": "NameError",
     "evalue": "name 'reset' is not defined",
     "output_type": "error",
     "traceback": [
      "\u001b[0;31m---------------------------------------------------------------------------\u001b[0m",
      "\u001b[0;31mNameError\u001b[0m                                 Traceback (most recent call last)",
      "\u001b[0;32m<ipython-input-200-d6c3fefea8cc>\u001b[0m in \u001b[0;36m<module>\u001b[0;34m\u001b[0m\n\u001b[1;32m      1\u001b[0m \u001b[0;31m#reset variables and clear memory\u001b[0m\u001b[0;34m\u001b[0m\u001b[0;34m\u001b[0m\u001b[0m\n\u001b[0;32m----> 2\u001b[0;31m \u001b[0mreset\u001b[0m \u001b[0;34m-\u001b[0m\u001b[0mf\u001b[0m\u001b[0;34m\u001b[0m\u001b[0m\n\u001b[0m",
      "\u001b[0;31mNameError\u001b[0m: name 'reset' is not defined"
     ]
    }
   ],
   "source": [
    "#reset variables and clear memory\n",
    "reset -f"
   ]
  },
  {
   "cell_type": "code",
   "execution_count": 201,
   "metadata": {},
   "outputs": [],
   "source": [
    "%matplotlib inline\n",
    "import numpy as np # linear algebra\n",
    "import pandas as pd # data processing, CSV file I/O (e.g. pd.read_csv)\n",
    "import matplotlib.pyplot as plt\n",
    "import seaborn as sns\n",
    "import csv\n",
    "import string\n",
    "from sklearn.model_selection import train_test_split\n",
    "from copy import deepcopy\n",
    "from sklearn.preprocessing import Normalizer\n",
    "from scipy import ndimage\n",
    "from skimage import measure\n",
    "from keras.models import Sequential\n",
    "from keras import metrics\n",
    "from keras.layers import Dense, Conv2D, MaxPooling2D, Dropout, Flatten\n",
    "from keras.layers.advanced_activations import LeakyReLU\n",
    "from sklearn.model_selection import StratifiedKFold\n",
    "from sklearn.model_selection import KFold\n",
    "from sklearn.metrics import accuracy_score\n",
    "from sklearn.preprocessing import OneHotEncoder\n",
    "from sklearn import preprocessing\n",
    "from keras import Input\n",
    "from keras.layers import Concatenate\n",
    "from keras.layers import concatenate\n",
    "from keras import Model\n"
   ]
  },
  {
   "cell_type": "code",
   "execution_count": 202,
   "metadata": {},
   "outputs": [],
   "source": [
    "#Entire images and labels extracted for training\n",
    "images_train = np.load('../../Kaggle_data/train_images.npy', encoding='latin1')\n",
    "IMAGE_TRAIN = deepcopy(images_train)\n",
    "IMAGE_TRAIN = IMAGE_TRAIN[:,1]\n",
    "IMAGE_TRAIN = IMAGE_TRAIN.tolist()\n",
    "images_train = images_train[:,1]\n",
    "images_train = images_train.tolist()\n",
    "\n",
    "for i in range(len(images_train)):\n",
    "    images_train[i]=images_train[i].reshape(100,100)\n",
    "    \n",
    "for i in range(len(IMAGE_TRAIN)):\n",
    "    IMAGE_TRAIN[i] = IMAGE_TRAIN[i].reshape(100,100)\n",
    "\n",
    "with open('../../Kaggle_data/train_labels.csv') as f:\n",
    "    reader = csv.reader(f, delimiter=\",\")\n",
    "    label_train = list(reader)   \n",
    "del label_train[0]\n"
   ]
  },
  {
   "cell_type": "code",
   "execution_count": null,
   "metadata": {},
   "outputs": [],
   "source": [
    "#Images extracted for testing\n",
    "images_test = np.load('../../Kaggle_data/test_images.npy', encoding='latin1')\n",
    "IMAGE_TEST = deepcopy(images_test)\n",
    "IMAGE_TEST = IMAGE_TEST[:,1]\n",
    "IMAGE_TEST = IMAGE_TEST.tolist()\n",
    "images_test = images_test[:,1]\n",
    "images_test = images_test.tolist()\n",
    "\n",
    "for i in range(len(images_test)):\n",
    "    images_test[i]=images_test[i].reshape(100,100)\n",
    "    \n",
    "for i in range(len(IMAGE_TEST)):\n",
    "    IMAGE_TEST[i] = IMAGE_TEST[i].reshape(100,100)"
   ]
  },
  {
   "cell_type": "code",
   "execution_count": 4,
   "metadata": {},
   "outputs": [],
   "source": [
    "#FOR TRAINING SET\n",
    "#Carve around contours with maximum length. Noise around any enclosed contour is removed\n",
    "contour=[]\n",
    "image_crop = []\n",
    "# for j in range(1000):\n",
    "for j in range(len(images_train)):\n",
    "    contour.append(measure.find_contours(images_train[j],0.1))\n",
    "    c=0\n",
    "    for n,i in enumerate(contour[j]):\n",
    "        if len(i)>c:\n",
    "            c = len(i)\n",
    "            idx = n\n",
    "    r_mask = np.zeros_like(images_train[j],dtype='bool')\n",
    "    r_mask[np.round(contour[j][idx][:, 0]).astype('int'), np.round(contour[j][idx][:, 1]).astype('int')] = 1\n",
    "    r_mask = ndimage.binary_fill_holes(r_mask)\n",
    "    for k in range(0,r_mask.shape[0]):\n",
    "        for l in range(0,r_mask.shape[1]):\n",
    "            if r_mask[k,l]==0:\n",
    "                images_train[j][k,l] = 0\n",
    "    ymin = int(round(min(contour[j][idx][:,0])))\n",
    "    xmin = int(round(min(contour[j][idx][:,1])))\n",
    "    ymax = int(round(max(contour[j][idx][:,0])))\n",
    "    xmax = int(round(max(contour[j][idx][:,1])))\n",
    "    image_crop.append(images_train[j][ymin+1:ymax-1,xmin+1:xmax-1])"
   ]
  },
  {
   "cell_type": "code",
   "execution_count": 328,
   "metadata": {},
   "outputs": [],
   "source": [
    "#FOR TEST SET\n",
    "#Carve around contours with maximum length. Noise around any enclosed contour is removed\n",
    "contour_test=[]\n",
    "image_crop_test = []\n",
    "# for j in range(1000):\n",
    "for j in range(len(images_test)):\n",
    "    contour_test.append(measure.find_contours(images_test[j],0.1))\n",
    "    c=0\n",
    "    for n,i in enumerate(contour_test[j]):\n",
    "        if len(i)>c:\n",
    "            c = len(i)\n",
    "            idx = n\n",
    "    r_mask = np.zeros_like(images_test[j],dtype='bool')\n",
    "    r_mask[np.round(contour_test[j][idx][:, 0]).astype('int'), np.round(contour_test[j][idx][:, 1]).astype('int')] = 1\n",
    "    r_mask = ndimage.binary_fill_holes(r_mask)\n",
    "    for k in range(0,r_mask.shape[0]):\n",
    "        for l in range(0,r_mask.shape[1]):\n",
    "            if r_mask[k,l]==0:\n",
    "                images_test[j][k,l] = 0\n",
    "    ymin = int(round(min(contour_test[j][idx][:,0])))\n",
    "    xmin = int(round(min(contour_test[j][idx][:,1])))\n",
    "    ymax = int(round(max(contour_test[j][idx][:,0])))\n",
    "    xmax = int(round(max(contour_test[j][idx][:,1])))\n",
    "    image_crop_test.append(images_test[j][ymin+1:ymax-1,xmin+1:xmax-1])"
   ]
  },
  {
   "cell_type": "code",
   "execution_count": 5,
   "metadata": {},
   "outputs": [
    {
     "data": {
      "image/png": "[encoded data removed]",
      "text/plain": [
       "<Figure size 432x288 with 1 Axes>"
      ]
     },
     "metadata": {
      "needs_background": "light"
     },
     "output_type": "display_data"
    }
   ],
   "source": [
    "#Show the contours of an image from training set\n",
    "image1 = IMAGE_TRAIN[1]\n",
    "\n",
    "# Display the image and plot all contours found\n",
    "fig, ax = plt.subplots()\n",
    "ax.imshow(image1, interpolation='nearest', cmap=plt.cm.gray)\n",
    "\n",
    "for n, i in enumerate(contour[1]):\n",
    "    ax.plot(i[:, 1], i[:, 0], linewidth=2)"
   ]
  },
  {
   "cell_type": "code",
   "execution_count": 285,
   "metadata": {},
   "outputs": [
    {
     "data": {
      "image/png": "[encoded data removed]",
      "text/plain": [
       "<Figure size 432x288 with 1 Axes>"
      ]
     },
     "metadata": {
      "needs_background": "light"
     },
     "output_type": "display_data"
    }
   ],
   "source": [
    "#Show the contours of an image from test set\n",
    "image1 = IMAGE_TEST[1]\n",
    "\n",
    "# Display the image and plot all contours found\n",
    "fig, ax = plt.subplots()\n",
    "ax.imshow(image1, interpolation='nearest', cmap=plt.cm.gray)\n",
    "\n",
    "for n, i in enumerate(contour_test[1]):\n",
    "    ax.plot(i[:, 1], i[:, 0], linewidth=2)"
   ]
  },
  {
   "cell_type": "code",
   "execution_count": 6,
   "metadata": {},
   "outputs": [],
   "source": [
    "#FOR TRAINING SET\n",
    "#Extract height, width, edges, gradient, and gradient direction from cropped image \n",
    "from skimage.transform import resize\n",
    "from scipy.ndimage import gaussian_filter\n",
    "from skimage import feature\n",
    "\n",
    "image_size = []\n",
    "image_norm = []\n",
    "image_norm_new = []\n",
    "ver_grad = []\n",
    "hor_grad = []\n",
    "ver_max = []\n",
    "hor_max = []\n",
    "grad_mag = []\n",
    "grad_mag_norm = []\n",
    "edge_angle_norm = []\n",
    "transformer = Normalizer()\n",
    "\n",
    "for i in image_crop:\n",
    "    image_size.append(i.size)\n",
    "    image_norm.append(resize(i,(30,30), anti_aliasing = True, mode='constant'))\n",
    "    image_norm_new.append(transformer.transform(resize(i,(30,30), anti_aliasing = True, mode='constant')))\n",
    "for i in image_norm:\n",
    "    v_grad = np.pad(i,((1,0),(0,0)),mode='constant')\n",
    "    ve_grad = np.diff(v_grad,axis=0)\n",
    "    ver_grad.append(ve_grad)\n",
    "    h_grad = np.pad(i,((0,0),(1,0)),mode='constant')\n",
    "    ho_grad = np.diff(h_grad,axis=1)\n",
    "    hor_grad.append(ho_grad)\n",
    "    for i in range(0,ho_grad.shape[0]):\n",
    "        for j in range(0,ho_grad.shape[1]):\n",
    "            if ho_grad[i,j]>ho_grad[i,j-1]:\n",
    "                ho_grad[i,j-1]=0\n",
    "            else:\n",
    "                    ho_grad[i,j]=0\n",
    "    hor_max.append(ho_grad)\n",
    "    for i in range(0,ve_grad.shape[0]):\n",
    "        for j in range(0,ve_grad.shape[1]):\n",
    "            if ve_grad[i,j]>ho_grad[i-1,j]:\n",
    "                ve_grad[i-1,j]=0\n",
    "            else:\n",
    "                    ve_grad[i,j]=0\n",
    "    ver_max.append(ve_grad)\n",
    "    grad_magni = ve_grad+ho_grad\n",
    "    for i in range(0,grad_magni.shape[0]):\n",
    "        for j in range(0,grad_magni.shape[1]):\n",
    "            if grad_magni[i,j] > 0:\n",
    "                grad_magni[i,j]=255\n",
    "    grad_mag.append(grad_magni)\n",
    "    grad_mag_norm.append(transformer.transform(grad_magni))\n",
    "\n",
    "#Gradient angle\n",
    "edge_angle=[]\n",
    "for i in range(len(hor_grad)):\n",
    "    edge_angle.append(np.arctan2(hor_grad[i], ver_grad[i]))\n",
    "    edge_angle_norm.append(transformer.transform(np.arctan2(hor_grad[i], ver_grad[i])))"
   ]
  },
  {
   "cell_type": "code",
   "execution_count": 329,
   "metadata": {},
   "outputs": [],
   "source": [
    "#FOR TESTING\n",
    "#Extract height, width, edges, gradient, and gradient direction from cropped image \n",
    "from skimage.transform import resize\n",
    "from scipy.ndimage import gaussian_filter\n",
    "from skimage import feature\n",
    "\n",
    "image_size_test = []\n",
    "image_norm_test = []\n",
    "ver_grad_test = []\n",
    "hor_grad_test = []\n",
    "ver_max_test = []\n",
    "hor_max_test = []\n",
    "image_norm_new_test = []\n",
    "grad_mag_test = []\n",
    "for i in image_crop_test:\n",
    "    image_size_test.append(i.size)\n",
    "    image_norm_test.append(resize(i,(30,30), anti_aliasing = True, mode='constant'))\n",
    "    image_norm_new_test.append(transformer.transform(resize(i,(30,30), anti_aliasing = True, mode='constant')))\n",
    "\n",
    "for i in image_norm_test:\n",
    "    v_grad_test = np.pad(i,((1,0),(0,0)),mode='constant')\n",
    "    ve_grad_test = np.diff(v_grad_test,axis=0)\n",
    "    ver_grad_test.append(ve_grad_test)\n",
    "    h_grad_test = np.pad(i,((0,0),(1,0)),mode='constant')\n",
    "    ho_grad_test = np.diff(h_grad_test,axis=1)\n",
    "    hor_grad_test.append(ho_grad_test)\n",
    "    for i in range(0,ho_grad_test.shape[0]):\n",
    "        for j in range(0,ho_grad_test.shape[1]):\n",
    "            if ho_grad_test[i,j]>ho_grad_test[i,j-1]:\n",
    "                ho_grad_test[i,j-1]=0\n",
    "            else:\n",
    "                    ho_grad_test[i,j]=0\n",
    "    hor_max_test.append(ho_grad_test)\n",
    "    for i in range(0,ve_grad_test.shape[0]):\n",
    "        for j in range(0,ve_grad_test.shape[1]):\n",
    "            if ve_grad_test[i,j]>ho_grad_test[i-1,j]:\n",
    "                ve_grad_test[i-1,j]=0\n",
    "            else:\n",
    "                    ve_grad_test[i,j]=0\n",
    "    ver_max_test.append(ve_grad_test)\n",
    "    grad_magni_test = ve_grad_test+ho_grad_test\n",
    "    for i in range(0,grad_magni_test.shape[0]):\n",
    "        for j in range(0,grad_magni_test.shape[1]):\n",
    "            if grad_magni_test[i,j] > 0:\n",
    "                grad_magni_test[i,j]=255\n",
    "    grad_mag_test.append(grad_magni_test)\n",
    "\n",
    "#Gradient angle\n",
    "edge_angle_test=[]\n",
    "for i in range(len(hor_grad_test)):\n",
    "    edge_angle_test.append(np.arctan2(hor_grad_test[i], ver_grad_test[i]))"
   ]
  },
  {
   "cell_type": "code",
   "execution_count": 7,
   "metadata": {},
   "outputs": [],
   "source": [
    "#FOR TRAINING SET\n",
    "#Make a list that consists of the size of image and edge angle information\n",
    "\n",
    "edge_angle_row=[]\n",
    "for i in range(len(edge_angle)):\n",
    "    edge_angle_row.append(edge_angle[i].reshape(edge_angle[i].size))\n",
    "    edge_angle_row[i] = [image_size[i]]+edge_angle_row[i].tolist()\n",
    "with open('processed_train.txt', 'w') as f:\n",
    "    for item in edge_angle_row:\n",
    "        f.write(\"%s\\n\" % item)"
   ]
  },
  {
   "cell_type": "code",
   "execution_count": 307,
   "metadata": {},
   "outputs": [],
   "source": [
    "#FOR TEST SET\n",
    "#Make a list that consists of the size of image and edge angle information\n",
    "\n",
    "edge_angle_row_test=[]\n",
    "for i in range(len(edge_angle_test)):\n",
    "    edge_angle_row_test.append(edge_angle_test[i].reshape(edge_angle_test[i].size))\n",
    "    edge_angle_row_test[i] = [image_size_test[i]]+edge_angle_row_test[i].tolist()\n",
    "with open('processed_test.txt', 'w') as f:\n",
    "    for item in edge_angle_row_test:\n",
    "        f.write(\"%s\\n\" % item)"
   ]
  },
  {
   "cell_type": "code",
   "execution_count": 131,
   "metadata": {},
   "outputs": [
    {
     "name": "stdout",
     "output_type": "stream",
     "text": [
      "['4691', 'skull']\n",
      "621\n"
     ]
    },
    {
     "data": {
      "image/png": "[encoded data removed]",
      "text/plain": [
       "<Figure size 432x288 with 1 Axes>"
      ]
     },
     "metadata": {
      "needs_background": "light"
     },
     "output_type": "display_data"
    }
   ],
   "source": [
    "#Display processed sample image from training set, its label, and size\n",
    "\n",
    "i=4691\n",
    "plt.imshow(image_crop[i])\n",
    "print(label_train[i])\n",
    "print(image_crop[i].size)\n"
   ]
  },
  {
   "cell_type": "code",
   "execution_count": 133,
   "metadata": {
    "scrolled": true
   },
   "outputs": [
    {
     "data": {
      "text/plain": [
       "<matplotlib.image.AxesImage at 0x7f01fec95a90>"
      ]
     },
     "execution_count": 133,
     "metadata": {},
     "output_type": "execute_result"
    },
    {
     "data": {
      "image/png": "[encoded data removed]",
      "text/plain": [
       "<Figure size 432x288 with 1 Axes>"
      ]
     },
     "metadata": {
      "needs_background": "light"
     },
     "output_type": "display_data"
    }
   ],
   "source": [
    "#normalized image\n",
    "plt.imshow(image_norm_new[i])"
   ]
  },
  {
   "cell_type": "code",
   "execution_count": 134,
   "metadata": {
    "scrolled": true
   },
   "outputs": [
    {
     "data": {
      "text/plain": [
       "<matplotlib.image.AxesImage at 0x7f01fec6cfd0>"
      ]
     },
     "execution_count": 134,
     "metadata": {},
     "output_type": "execute_result"
    },
    {
     "data": {
      "image/png": "[encoded data removed]",
      "text/plain": [
       "<Figure size 432x288 with 1 Axes>"
      ]
     },
     "metadata": {
      "needs_background": "light"
     },
     "output_type": "display_data"
    }
   ],
   "source": [
    "plt.imshow(ver_grad[i])"
   ]
  },
  {
   "cell_type": "code",
   "execution_count": 135,
   "metadata": {},
   "outputs": [
    {
     "data": {
      "text/plain": [
       "<matplotlib.image.AxesImage at 0x7f01fd1cb6a0>"
      ]
     },
     "execution_count": 135,
     "metadata": {},
     "output_type": "execute_result"
    },
    {
     "data": {
      "image/png": "[encoded data removed]",
      "text/plain": [
       "<Figure size 432x288 with 1 Axes>"
      ]
     },
     "metadata": {
      "needs_background": "light"
     },
     "output_type": "display_data"
    }
   ],
   "source": [
    "plt.imshow(hor_grad[i])"
   ]
  },
  {
   "cell_type": "code",
   "execution_count": 136,
   "metadata": {
    "scrolled": true
   },
   "outputs": [
    {
     "data": {
      "text/plain": [
       "<matplotlib.image.AxesImage at 0x7f01fd1a1c50>"
      ]
     },
     "execution_count": 136,
     "metadata": {},
     "output_type": "execute_result"
    },
    {
     "data": {
      "image/png": "[encoded data removed]",
      "text/plain": [
       "<Figure size 432x288 with 1 Axes>"
      ]
     },
     "metadata": {
      "needs_background": "light"
     },
     "output_type": "display_data"
    }
   ],
   "source": [
    "plt.imshow(grad_mag[i])"
   ]
  },
  {
   "cell_type": "code",
   "execution_count": 137,
   "metadata": {},
   "outputs": [
    {
     "data": {
      "text/plain": [
       "<matplotlib.image.AxesImage at 0x7f01fd1012b0>"
      ]
     },
     "execution_count": 137,
     "metadata": {},
     "output_type": "execute_result"
    },
    {
     "data": {
      "image/png": "[encoded data removed]",
      "text/plain": [
       "<Figure size 432x288 with 1 Axes>"
      ]
     },
     "metadata": {
      "needs_background": "light"
     },
     "output_type": "display_data"
    }
   ],
   "source": [
    "plt.imshow(edge_angle[i])"
   ]
  },
  {
   "cell_type": "code",
   "execution_count": 139,
   "metadata": {},
   "outputs": [],
   "source": [
    "#One hot encoding of labels\n",
    "label_dic = {'shovel':0,\n",
    "       'rifle':1,\n",
    "       'scorpion':2,\n",
    "       'apple':3,\n",
    "       'spoon':4,\n",
    "       'pineapple':5,\n",
    "       'mouth':6,\n",
    "       'skateboard':7,\n",
    "       'rollerskates':8,\n",
    "       'peanut':9,\n",
    "       'rabbit':10,\n",
    "       'sink':11,\n",
    "       'sailboat':12,\n",
    "       'nose':13,\n",
    "       'skull':14,\n",
    "       'pool':15,\n",
    "       'pear':16,\n",
    "       'pillow':17,\n",
    "       'penguin':18,\n",
    "       'nail':19,\n",
    "       'pencil':20,\n",
    "       'empty':21,\n",
    "       'moustache':22,\n",
    "       'paintbrush':23,\n",
    "       'panda':24,\n",
    "       'parrot':25,\n",
    "       'screwdriver':26,\n",
    "       'squiggle':27,\n",
    "       'octagon':28,\n",
    "       'rhinoceros':29,\n",
    "       'mug':30}\n",
    "\n",
    "label_dic_copy = deepcopy(label_dic) \n",
    "\n",
    "#make one hot encoding dictionary in this loop\n",
    "for key, value in label_dic.items():\n",
    "    new_value = np.zeros(31)\n",
    "    new_value[value] = 1\n",
    "    label_dic[key] = new_value\n",
    "\n",
    "label_encoded = np.zeros([np.shape(label_train)[0],31])\n",
    "\n",
    "#make one hot encoded array of training labels\n",
    "for i in range(np.shape(label_train)[0]):\n",
    "    label_encoded[i] = label_dic[label_train[i][1]] \n"
   ]
  },
  {
   "cell_type": "code",
   "execution_count": 141,
   "metadata": {
    "scrolled": true
   },
   "outputs": [
    {
     "data": {
      "text/plain": [
       "{'shovel': array([1., 0., 0., 0., 0., 0., 0., 0., 0., 0., 0., 0., 0., 0., 0., 0., 0.,\n",
       "        0., 0., 0., 0., 0., 0., 0., 0., 0., 0., 0., 0., 0., 0.]),\n",
       " 'rifle': array([0., 1., 0., 0., 0., 0., 0., 0., 0., 0., 0., 0., 0., 0., 0., 0., 0.,\n",
       "        0., 0., 0., 0., 0., 0., 0., 0., 0., 0., 0., 0., 0., 0.]),\n",
       " 'scorpion': array([0., 0., 1., 0., 0., 0., 0., 0., 0., 0., 0., 0., 0., 0., 0., 0., 0.,\n",
       "        0., 0., 0., 0., 0., 0., 0., 0., 0., 0., 0., 0., 0., 0.]),\n",
       " 'apple': array([0., 0., 0., 1., 0., 0., 0., 0., 0., 0., 0., 0., 0., 0., 0., 0., 0.,\n",
       "        0., 0., 0., 0., 0., 0., 0., 0., 0., 0., 0., 0., 0., 0.]),\n",
       " 'spoon': array([0., 0., 0., 0., 1., 0., 0., 0., 0., 0., 0., 0., 0., 0., 0., 0., 0.,\n",
       "        0., 0., 0., 0., 0., 0., 0., 0., 0., 0., 0., 0., 0., 0.]),\n",
       " 'pineapple': array([0., 0., 0., 0., 0., 1., 0., 0., 0., 0., 0., 0., 0., 0., 0., 0., 0.,\n",
       "        0., 0., 0., 0., 0., 0., 0., 0., 0., 0., 0., 0., 0., 0.]),\n",
       " 'mouth': array([0., 0., 0., 0., 0., 0., 1., 0., 0., 0., 0., 0., 0., 0., 0., 0., 0.,\n",
       "        0., 0., 0., 0., 0., 0., 0., 0., 0., 0., 0., 0., 0., 0.]),\n",
       " 'skateboard': array([0., 0., 0., 0., 0., 0., 0., 1., 0., 0., 0., 0., 0., 0., 0., 0., 0.,\n",
       "        0., 0., 0., 0., 0., 0., 0., 0., 0., 0., 0., 0., 0., 0.]),\n",
       " 'rollerskates': array([0., 0., 0., 0., 0., 0., 0., 0., 1., 0., 0., 0., 0., 0., 0., 0., 0.,\n",
       "        0., 0., 0., 0., 0., 0., 0., 0., 0., 0., 0., 0., 0., 0.]),\n",
       " 'peanut': array([0., 0., 0., 0., 0., 0., 0., 0., 0., 1., 0., 0., 0., 0., 0., 0., 0.,\n",
       "        0., 0., 0., 0., 0., 0., 0., 0., 0., 0., 0., 0., 0., 0.]),\n",
       " 'rabbit': array([0., 0., 0., 0., 0., 0., 0., 0., 0., 0., 1., 0., 0., 0., 0., 0., 0.,\n",
       "        0., 0., 0., 0., 0., 0., 0., 0., 0., 0., 0., 0., 0., 0.]),\n",
       " 'sink': array([0., 0., 0., 0., 0., 0., 0., 0., 0., 0., 0., 1., 0., 0., 0., 0., 0.,\n",
       "        0., 0., 0., 0., 0., 0., 0., 0., 0., 0., 0., 0., 0., 0.]),\n",
       " 'sailboat': array([0., 0., 0., 0., 0., 0., 0., 0., 0., 0., 0., 0., 1., 0., 0., 0., 0.,\n",
       "        0., 0., 0., 0., 0., 0., 0., 0., 0., 0., 0., 0., 0., 0.]),\n",
       " 'nose': array([0., 0., 0., 0., 0., 0., 0., 0., 0., 0., 0., 0., 0., 1., 0., 0., 0.,\n",
       "        0., 0., 0., 0., 0., 0., 0., 0., 0., 0., 0., 0., 0., 0.]),\n",
       " 'skull': array([0., 0., 0., 0., 0., 0., 0., 0., 0., 0., 0., 0., 0., 0., 1., 0., 0.,\n",
       "        0., 0., 0., 0., 0., 0., 0., 0., 0., 0., 0., 0., 0., 0.]),\n",
       " 'pool': array([0., 0., 0., 0., 0., 0., 0., 0., 0., 0., 0., 0., 0., 0., 0., 1., 0.,\n",
       "        0., 0., 0., 0., 0., 0., 0., 0., 0., 0., 0., 0., 0., 0.]),\n",
       " 'pear': array([0., 0., 0., 0., 0., 0., 0., 0., 0., 0., 0., 0., 0., 0., 0., 0., 1.,\n",
       "        0., 0., 0., 0., 0., 0., 0., 0., 0., 0., 0., 0., 0., 0.]),\n",
       " 'pillow': array([0., 0., 0., 0., 0., 0., 0., 0., 0., 0., 0., 0., 0., 0., 0., 0., 0.,\n",
       "        1., 0., 0., 0., 0., 0., 0., 0., 0., 0., 0., 0., 0., 0.]),\n",
       " 'penguin': array([0., 0., 0., 0., 0., 0., 0., 0., 0., 0., 0., 0., 0., 0., 0., 0., 0.,\n",
       "        0., 1., 0., 0., 0., 0., 0., 0., 0., 0., 0., 0., 0., 0.]),\n",
       " 'nail': array([0., 0., 0., 0., 0., 0., 0., 0., 0., 0., 0., 0., 0., 0., 0., 0., 0.,\n",
       "        0., 0., 1., 0., 0., 0., 0., 0., 0., 0., 0., 0., 0., 0.]),\n",
       " 'pencil': array([0., 0., 0., 0., 0., 0., 0., 0., 0., 0., 0., 0., 0., 0., 0., 0., 0.,\n",
       "        0., 0., 0., 1., 0., 0., 0., 0., 0., 0., 0., 0., 0., 0.]),\n",
       " 'empty': array([0., 0., 0., 0., 0., 0., 0., 0., 0., 0., 0., 0., 0., 0., 0., 0., 0.,\n",
       "        0., 0., 0., 0., 1., 0., 0., 0., 0., 0., 0., 0., 0., 0.]),\n",
       " 'moustache': array([0., 0., 0., 0., 0., 0., 0., 0., 0., 0., 0., 0., 0., 0., 0., 0., 0.,\n",
       "        0., 0., 0., 0., 0., 1., 0., 0., 0., 0., 0., 0., 0., 0.]),\n",
       " 'paintbrush': array([0., 0., 0., 0., 0., 0., 0., 0., 0., 0., 0., 0., 0., 0., 0., 0., 0.,\n",
       "        0., 0., 0., 0., 0., 0., 1., 0., 0., 0., 0., 0., 0., 0.]),\n",
       " 'panda': array([0., 0., 0., 0., 0., 0., 0., 0., 0., 0., 0., 0., 0., 0., 0., 0., 0.,\n",
       "        0., 0., 0., 0., 0., 0., 0., 1., 0., 0., 0., 0., 0., 0.]),\n",
       " 'parrot': array([0., 0., 0., 0., 0., 0., 0., 0., 0., 0., 0., 0., 0., 0., 0., 0., 0.,\n",
       "        0., 0., 0., 0., 0., 0., 0., 0., 1., 0., 0., 0., 0., 0.]),\n",
       " 'screwdriver': array([0., 0., 0., 0., 0., 0., 0., 0., 0., 0., 0., 0., 0., 0., 0., 0., 0.,\n",
       "        0., 0., 0., 0., 0., 0., 0., 0., 0., 1., 0., 0., 0., 0.]),\n",
       " 'squiggle': array([0., 0., 0., 0., 0., 0., 0., 0., 0., 0., 0., 0., 0., 0., 0., 0., 0.,\n",
       "        0., 0., 0., 0., 0., 0., 0., 0., 0., 0., 1., 0., 0., 0.]),\n",
       " 'octagon': array([0., 0., 0., 0., 0., 0., 0., 0., 0., 0., 0., 0., 0., 0., 0., 0., 0.,\n",
       "        0., 0., 0., 0., 0., 0., 0., 0., 0., 0., 0., 1., 0., 0.]),\n",
       " 'rhinoceros': array([0., 0., 0., 0., 0., 0., 0., 0., 0., 0., 0., 0., 0., 0., 0., 0., 0.,\n",
       "        0., 0., 0., 0., 0., 0., 0., 0., 0., 0., 0., 0., 1., 0.]),\n",
       " 'mug': array([0., 0., 0., 0., 0., 0., 0., 0., 0., 0., 0., 0., 0., 0., 0., 0., 0.,\n",
       "        0., 0., 0., 0., 0., 0., 0., 0., 0., 0., 0., 0., 0., 1.])}"
      ]
     },
     "execution_count": 141,
     "metadata": {},
     "output_type": "execute_result"
    }
   ],
   "source": [
    "#Encoded label dictionary\n",
    "label_dic"
   ]
  },
  {
   "cell_type": "markdown",
   "metadata": {},
   "source": [
    "# CNN Implementation"
   ]
  },
  {
   "cell_type": "markdown",
   "metadata": {},
   "source": [
    "## Hold-out Validation (Cross Validation option below)"
   ]
  },
  {
   "cell_type": "code",
   "execution_count": 194,
   "metadata": {},
   "outputs": [],
   "source": [
    "#Using image and image size as features to CNN\n",
    "image_norm_new_arr = np.asarray(image_norm_new) #gives best results\n",
    "image_size_arr = np.asarray(image_size)\n",
    "image_size_norm_arr = transformer.transform(image_size_arr.reshape(1,-1))\n",
    "\n",
    "#Images\n",
    "X_train, X_valid, y_train, y_valid = train_test_split(image_norm_new_arr, label_encoded, test_size=0.2, random_state=42) \n",
    "\n",
    "#Image size\n",
    "X_train2, X_valid2, _, _ = train_test_split(image_size_norm_arr.ravel(), label_encoded, test_size=0.2, random_state=42) \n",
    "\n",
    "X_train = X_train.reshape(np.shape(X_train)[0],30,30,1)\n",
    "X_valid = X_valid.reshape(np.shape(X_valid)[0],30,30,1)\n",
    "\n",
    "#create CNN model\n",
    "\n",
    "#0.65 accuracy\n",
    "# model = Sequential()\n",
    "# model.add(Conv2D(32, (3, 3), padding='same', activation='relu', input_shape=(30,30,1)))\n",
    "# model.add(Conv2D(32, (3, 3), activation='relu'))\n",
    "# model.add(MaxPooling2D(pool_size=(2, 2)))\n",
    "# model.add(Dropout(0.25))\n",
    "\n",
    "# model.add(Conv2D(64, (3, 3), padding='same', activation='relu'))\n",
    "# model.add(Conv2D(64, (3, 3), activation='relu'))\n",
    "# model.add(MaxPooling2D(pool_size=(2, 2)))\n",
    "# model.add(Dropout(0.25))\n",
    "\n",
    "# model.add(Conv2D(64, (3, 3), padding='same', activation='relu'))\n",
    "# model.add(Conv2D(64, (3, 3), activation='relu'))\n",
    "# model.add(MaxPooling2D(pool_size=(2, 2)))\n",
    "# model.add(Dropout(0.25))\n",
    "\n",
    "# model.add(Flatten())\n",
    "# model.add(Dense(31, activation='softmax'))\n",
    "\n",
    "#0.67\n",
    "# model = Sequential()\n",
    "# model.add(Conv2D(32, (3, 3), padding='same', activation='relu', input_shape=(30,30,1)))\n",
    "# model.add(Conv2D(32, (3, 3), activation='relu'))\n",
    "# model.add(MaxPooling2D(pool_size=(2, 2)))\n",
    "# model.add(Dropout(0.25))\n",
    "\n",
    "# model.add(Conv2D(64, (3, 3), padding='same', activation='relu'))\n",
    "# model.add(Conv2D(64, (3, 3), activation='relu'))\n",
    "# model.add(MaxPooling2D(pool_size=(2, 2)))\n",
    "# model.add(Dropout(0.25))\n",
    "\n",
    "# model.add(Conv2D(64, (3, 3), padding='same', activation='relu'))\n",
    "# model.add(Conv2D(64, (3, 3), activation='relu'))\n",
    "# # model.add(MaxPooling2D(pool_size=(2, 2)))\n",
    "# model.add(Dropout(0.25))\n",
    "\n",
    "# model.add(Conv2D(64, (3, 3), padding='same', activation='relu'))\n",
    "# model.add(Conv2D(64, (3, 3), activation='relu'))\n",
    "# model.add(MaxPooling2D(pool_size=(2, 2)))\n",
    "# model.add(Dropout(0.25))\n",
    "\n",
    "# model.add(Flatten())\n",
    "# model.add(Dense(31, activation='softmax'))\n",
    "\n",
    "#0.68 (150 epochs)\n",
    "# model = Sequential()\n",
    "# model.add(Conv2D(32, kernel_size=(3, 3),activation='linear',padding='same',input_shape=(30,30,1)))\n",
    "# model.add(LeakyReLU(alpha=0.1))\n",
    "# model.add(MaxPooling2D((2, 2),padding='same'))\n",
    "# model.add(Dropout(0.25))\n",
    "# model.add(Conv2D(64, (3, 3), activation='linear',padding='same'))\n",
    "# model.add(LeakyReLU(alpha=0.1))\n",
    "# model.add(MaxPooling2D(pool_size=(2, 2),padding='same'))\n",
    "# model.add(Dropout(0.25))\n",
    "# model.add(Conv2D(128, (3, 3), activation='linear',padding='same'))\n",
    "# model.add(LeakyReLU(alpha=0.1))                  \n",
    "# model.add(MaxPooling2D(pool_size=(2, 2),padding='same'))\n",
    "# model.add(Dropout(0.4))\n",
    "# model.add(Flatten())\n",
    "# model.add(Dense(128, activation='linear'))\n",
    "# model.add(LeakyReLU(alpha=0.1))           \n",
    "# model.add(Dropout(0.3))\n",
    "# model.add(Dense(31, activation='softmax'))\n",
    "\n",
    "#0.69 (150 epochs)\n",
    "# model = Sequential()\n",
    "# model.add(Conv2D(32, kernel_size=(3, 3), strides=1,activation='linear',padding='same',input_shape=(30,30,1)))\n",
    "# model.add(LeakyReLU(alpha=0.1))\n",
    "# model.add(MaxPooling2D((2, 2),padding='same'))\n",
    "# model.add(Dropout(0.25))\n",
    "# model.add(Conv2D(64, (3, 3), activation='linear',padding='same'))\n",
    "# model.add(LeakyReLU(alpha=0.1))\n",
    "# model.add(MaxPooling2D(pool_size=(2, 2),padding='same'))\n",
    "# model.add(Dropout(0.25))\n",
    "# model.add(Conv2D(128, (3, 3), activation='linear',padding='same'))\n",
    "# model.add(LeakyReLU(alpha=0.1))                  \n",
    "# model.add(MaxPooling2D(pool_size=(2, 2),padding='same'))\n",
    "# model.add(Dropout(0.4))\n",
    "# model.add(Flatten())\n",
    "# model.add(Dense(128, activation='linear'))\n",
    "# model.add(LeakyReLU(alpha=0.1))           \n",
    "# model.add(Dropout(0.3))\n",
    "# model.add(Dense(31, activation='softmax'))\n",
    "\n",
    "\n",
    "# model = Sequential()\n",
    "# model.add(Conv2D(32, (5, 5), input_shape=(30,30,1), activation='relu'))\n",
    "# model.add(MaxPooling2D(pool_size=(2, 2), strides=(2, 2), padding='same'))\n",
    "# model.add(Conv2D(64, (5, 5), activation='relu'))\n",
    "# model.add(MaxPooling2D(pool_size=(2, 2), strides=(2, 2), padding='same'))\n",
    "\n",
    "# model.add(Flatten())\n",
    "# model.add(Dense(512, activation='relu'))\n",
    "# model.add(Dropout(0.6))\n",
    "# model.add(Dense(128, activation='relu'))\n",
    "# model.add(Dropout(0.6))\n",
    "# model.add(Dense(31, activation='softmax'))\n",
    "\n",
    "#0.7 accuracy (considers both the image and the image size)\n",
    "images = Input(shape = (30,30,1), name = 'Images')\n",
    "size = Input(shape = (1,), name = 'Size')\n",
    "\n",
    "conv = Sequential()\n",
    "\n",
    "conv.add(Conv2D(32, kernel_size=(3, 3),activation='linear',padding='same',input_shape=(30,30,1)))\n",
    "conv.add(LeakyReLU(alpha=0.1))\n",
    "conv.add(MaxPooling2D((2, 2),padding='same'))\n",
    "conv.add(Dropout(0.25))\n",
    "conv.add(Conv2D(64, (3, 3), activation='linear',padding='same'))\n",
    "conv.add(LeakyReLU(alpha=0.1))\n",
    "conv.add(MaxPooling2D(pool_size=(2, 2),padding='same'))\n",
    "conv.add(Dropout(0.25))\n",
    "conv.add(Conv2D(128, (3, 3), activation='linear',padding='same'))\n",
    "conv.add(LeakyReLU(alpha=0.1))                  \n",
    "conv.add(MaxPooling2D(pool_size=(2, 2),padding='same'))\n",
    "conv.add(Dropout(0.4))\n",
    "conv.add(Flatten())\n",
    "part1 = conv(images)\n",
    "\n",
    "merged = concatenate([part1, size])\n",
    "\n",
    "final = Dense(128, activation='linear')(merged)\n",
    "final = LeakyReLU(alpha=0.1)(final)\n",
    "final = Dropout(0.3)(final)\n",
    "final = Dense(31, activation='softmax')(final)\n",
    "\n",
    "model = Model(inputs=[images, size], outputs=[final])\n",
    "\n",
    "\n",
    "\n",
    "model.compile(optimizer='adam', loss='categorical_crossentropy', metrics=['accuracy'])"
   ]
  },
  {
   "cell_type": "code",
   "execution_count": 197,
   "metadata": {
    "scrolled": false
   },
   "outputs": [
    {
     "name": "stdout",
     "output_type": "stream",
     "text": [
      "Train on 8000 samples, validate on 2000 samples\n",
      "Epoch 1/15\n",
      "8000/8000 [==============================] - 15s 2ms/step - loss: 0.9823 - acc: 0.7045 - val_loss: 1.2807 - val_acc: 0.6565\n",
      "Epoch 2/15\n",
      "8000/8000 [==============================] - 17s 2ms/step - loss: 0.9443 - acc: 0.7183 - val_loss: 1.2608 - val_acc: 0.6610\n",
      "Epoch 3/15\n",
      "8000/8000 [==============================] - 17s 2ms/step - loss: 0.8950 - acc: 0.7334 - val_loss: 1.2630 - val_acc: 0.6555\n",
      "Epoch 4/15\n",
      "8000/8000 [==============================] - 17s 2ms/step - loss: 0.8584 - acc: 0.7448 - val_loss: 1.2670 - val_acc: 0.6490\n",
      "Epoch 5/15\n",
      "8000/8000 [==============================] - 17s 2ms/step - loss: 0.8141 - acc: 0.7505 - val_loss: 1.2374 - val_acc: 0.6645\n",
      "Epoch 6/15\n",
      "8000/8000 [==============================] - 18s 2ms/step - loss: 0.8030 - acc: 0.7515 - val_loss: 1.2892 - val_acc: 0.6545\n",
      "Epoch 7/15\n",
      "8000/8000 [==============================] - 17s 2ms/step - loss: 0.7638 - acc: 0.7631 - val_loss: 1.2899 - val_acc: 0.6635\n",
      "Epoch 8/15\n",
      "8000/8000 [==============================] - 17s 2ms/step - loss: 0.7276 - acc: 0.7790 - val_loss: 1.3133 - val_acc: 0.6685\n",
      "Epoch 9/15\n",
      "8000/8000 [==============================] - 17s 2ms/step - loss: 0.7111 - acc: 0.7811 - val_loss: 1.2884 - val_acc: 0.6750\n",
      "Epoch 10/15\n",
      "8000/8000 [==============================] - 18s 2ms/step - loss: 0.7059 - acc: 0.7805 - val_loss: 1.2711 - val_acc: 0.6675\n",
      "Epoch 11/15\n",
      "8000/8000 [==============================] - 18s 2ms/step - loss: 0.6561 - acc: 0.7916 - val_loss: 1.3040 - val_acc: 0.6755\n",
      "Epoch 12/15\n",
      "8000/8000 [==============================] - 18s 2ms/step - loss: 0.6487 - acc: 0.7989 - val_loss: 1.2976 - val_acc: 0.6730\n",
      "Epoch 13/15\n",
      "8000/8000 [==============================] - 18s 2ms/step - loss: 0.6228 - acc: 0.8053 - val_loss: 1.3314 - val_acc: 0.6725\n",
      "Epoch 14/15\n",
      "8000/8000 [==============================] - 18s 2ms/step - loss: 0.6138 - acc: 0.8064 - val_loss: 1.3500 - val_acc: 0.6715\n",
      "Epoch 15/15\n",
      "8000/8000 [==============================] - 18s 2ms/step - loss: 0.5951 - acc: 0.8120 - val_loss: 1.3552 - val_acc: 0.6705\n"
     ]
    }
   ],
   "source": [
    "#train the model\n",
    "# history = model.fit(X_train, y_train, validation_data=(X_valid, y_valid), epochs=15) #just images\n",
    "history = model.fit([X_train, np.array(X_train2)], y_train, validation_data=([X_valid, X_valid2], y_valid), epochs=15) #images + size"
   ]
  },
  {
   "cell_type": "code",
   "execution_count": 198,
   "metadata": {},
   "outputs": [
    {
     "data": {
      "image/png": "[encoded data removed]",
      "text/plain": [
       "<Figure size 432x288 with 1 Axes>"
      ]
     },
     "metadata": {
      "needs_background": "light"
     },
     "output_type": "display_data"
    }
   ],
   "source": [
    "#plots\n",
    "plt.plot(history.history['acc'])\n",
    "plt.plot(history.history['val_acc'])\n",
    "plt.title('model accuracy')\n",
    "plt.ylabel('accuracy')\n",
    "plt.xlabel('epoch')\n",
    "plt.legend(['train', 'valid'], loc='upper left')\n",
    "plt.show()"
   ]
  },
  {
   "cell_type": "markdown",
   "metadata": {},
   "source": [
    "### Doing full training with tuned hyperparameters and predicting test labels"
   ]
  },
  {
   "cell_type": "code",
   "execution_count": 157,
   "metadata": {},
   "outputs": [
    {
     "ename": "NameError",
     "evalue": "name 'image_norm_new_test' is not defined",
     "output_type": "error",
     "traceback": [
      "\u001b[0;31m---------------------------------------------------------------------------\u001b[0m",
      "\u001b[0;31mNameError\u001b[0m                                 Traceback (most recent call last)",
      "\u001b[0;32m<ipython-input-157-111e94496669>\u001b[0m in \u001b[0;36m<module>\u001b[0;34m\u001b[0m\n\u001b[1;32m      1\u001b[0m \u001b[0mimage_norm_new_arr\u001b[0m \u001b[0;34m=\u001b[0m \u001b[0mnp\u001b[0m\u001b[0;34m.\u001b[0m\u001b[0masarray\u001b[0m\u001b[0;34m(\u001b[0m\u001b[0mimage_norm_new\u001b[0m\u001b[0;34m)\u001b[0m\u001b[0;34m\u001b[0m\u001b[0m\n\u001b[0;32m----> 2\u001b[0;31m \u001b[0mimage_norm_new_test_arr\u001b[0m \u001b[0;34m=\u001b[0m \u001b[0mnp\u001b[0m\u001b[0;34m.\u001b[0m\u001b[0masarray\u001b[0m\u001b[0;34m(\u001b[0m\u001b[0mimage_norm_new_test\u001b[0m\u001b[0;34m)\u001b[0m\u001b[0;34m\u001b[0m\u001b[0m\n\u001b[0m\u001b[1;32m      3\u001b[0m \u001b[0;34m\u001b[0m\u001b[0m\n\u001b[1;32m      4\u001b[0m \u001b[0mX_train\u001b[0m \u001b[0;34m=\u001b[0m \u001b[0mimage_norm_new_arr\u001b[0m \u001b[0;31m#Use ALL the training data\u001b[0m\u001b[0;34m\u001b[0m\u001b[0m\n\u001b[1;32m      5\u001b[0m \u001b[0my_train\u001b[0m \u001b[0;34m=\u001b[0m \u001b[0mlabel_encoded\u001b[0m\u001b[0;34m\u001b[0m\u001b[0m\n",
      "\u001b[0;31mNameError\u001b[0m: name 'image_norm_new_test' is not defined"
     ]
    }
   ],
   "source": [
    "image_norm_new_arr = np.asarray(image_norm_new) \n",
    "image_norm_new_test_arr = np.asarray(image_norm_new_test)\n",
    "\n",
    "X_train = image_norm_new_arr #Use ALL the training data\n",
    "y_train = label_encoded\n",
    "X_test = image_norm_new_test_arr\n",
    "\n",
    "X_train = X_train.reshape(np.shape(X_train)[0],30,30,1)\n",
    "X_test = X_test.reshape(np.shape(X_test)[0],30,30,1)\n",
    "\n",
    "#create model\n",
    "images = Input(shape = (30,30,1), name = 'Images')\n",
    "size = Input(shape = (1,), name = 'Size')\n",
    "\n",
    "conv = Sequential()\n",
    "\n",
    "conv.add(Conv2D(32, kernel_size=(3, 3),activation='linear',padding='same',input_shape=(30,30,1)))\n",
    "conv.add(LeakyReLU(alpha=0.1))\n",
    "conv.add(MaxPooling2D((2, 2),padding='same'))\n",
    "conv.add(Dropout(0.25))\n",
    "conv.add(Conv2D(64, (3, 3), activation='linear',padding='same'))\n",
    "conv.add(LeakyReLU(alpha=0.1))\n",
    "conv.add(MaxPooling2D(pool_size=(2, 2),padding='same'))\n",
    "conv.add(Dropout(0.25))\n",
    "conv.add(Conv2D(128, (3, 3), activation='linear',padding='same'))\n",
    "conv.add(LeakyReLU(alpha=0.1))                  \n",
    "conv.add(MaxPooling2D(pool_size=(2, 2),padding='same'))\n",
    "conv.add(Dropout(0.4))\n",
    "conv.add(Flatten())\n",
    "part1 = conv(images)\n",
    "\n",
    "merged = concatenate([part1, size])\n",
    "\n",
    "final = Dense(128, activation='linear')(merged)\n",
    "final = LeakyReLU(alpha=0.1)(final)\n",
    "final = Dropout(0.3)(final)\n",
    "final = Dense(31, activation='softmax')(final)\n",
    "\n",
    "model = Model(inputs=[images, size], outputs=[final])\n",
    "\n",
    "model.compile(optimizer='adam', loss='categorical_crossentropy', metrics=['accuracy'])"
   ]
  },
  {
   "cell_type": "code",
   "execution_count": 334,
   "metadata": {},
   "outputs": [
    {
     "name": "stdout",
     "output_type": "stream",
     "text": [
      "Epoch 1/70\n",
      "10000/10000 [==============================] - 19s 2ms/step - loss: 1.4453 - acc: 0.5915\n",
      "Epoch 2/70\n",
      "10000/10000 [==============================] - 20s 2ms/step - loss: 1.3280 - acc: 0.6212\n",
      "Epoch 3/70\n",
      "10000/10000 [==============================] - 20s 2ms/step - loss: 1.2461 - acc: 0.6436\n",
      "Epoch 4/70\n",
      "10000/10000 [==============================] - 20s 2ms/step - loss: 1.1792 - acc: 0.6607\n",
      "Epoch 5/70\n",
      "10000/10000 [==============================] - 20s 2ms/step - loss: 1.1076 - acc: 0.6804\n",
      "Epoch 6/70\n",
      "10000/10000 [==============================] - 20s 2ms/step - loss: 1.0616 - acc: 0.6914\n",
      "Epoch 7/70\n",
      "10000/10000 [==============================] - 20s 2ms/step - loss: 1.0133 - acc: 0.6990\n",
      "Epoch 8/70\n",
      "10000/10000 [==============================] - 20s 2ms/step - loss: 0.9582 - acc: 0.7152\n",
      "Epoch 9/70\n",
      "10000/10000 [==============================] - 20s 2ms/step - loss: 0.9349 - acc: 0.7220\n",
      "Epoch 10/70\n",
      "10000/10000 [==============================] - 20s 2ms/step - loss: 0.8894 - acc: 0.7338\n",
      "Epoch 11/70\n",
      "10000/10000 [==============================] - 20s 2ms/step - loss: 0.8451 - acc: 0.7460\n",
      "Epoch 12/70\n",
      "10000/10000 [==============================] - 20s 2ms/step - loss: 0.8313 - acc: 0.7476\n",
      "Epoch 13/70\n",
      "10000/10000 [==============================] - 21s 2ms/step - loss: 0.7950 - acc: 0.7548\n",
      "Epoch 14/70\n",
      "10000/10000 [==============================] - 20s 2ms/step - loss: 0.7746 - acc: 0.7592\n",
      "Epoch 15/70\n",
      "10000/10000 [==============================] - 20s 2ms/step - loss: 0.7456 - acc: 0.7714\n",
      "Epoch 16/70\n",
      "10000/10000 [==============================] - 20s 2ms/step - loss: 0.7191 - acc: 0.7781\n",
      "Epoch 17/70\n",
      "10000/10000 [==============================] - 21s 2ms/step - loss: 0.7022 - acc: 0.7846\n",
      "Epoch 18/70\n",
      "10000/10000 [==============================] - 20s 2ms/step - loss: 0.6907 - acc: 0.7861\n",
      "Epoch 19/70\n",
      "10000/10000 [==============================] - 20s 2ms/step - loss: 0.6734 - acc: 0.7913\n",
      "Epoch 20/70\n",
      "10000/10000 [==============================] - 20s 2ms/step - loss: 0.6632 - acc: 0.7908\n",
      "Epoch 21/70\n",
      "10000/10000 [==============================] - 20s 2ms/step - loss: 0.6447 - acc: 0.7993\n",
      "Epoch 22/70\n",
      "10000/10000 [==============================] - 20s 2ms/step - loss: 0.6298 - acc: 0.8001\n",
      "Epoch 23/70\n",
      "10000/10000 [==============================] - 20s 2ms/step - loss: 0.6183 - acc: 0.8052\n",
      "Epoch 24/70\n",
      "10000/10000 [==============================] - 20s 2ms/step - loss: 0.6114 - acc: 0.8063\n",
      "Epoch 25/70\n",
      "10000/10000 [==============================] - 21s 2ms/step - loss: 0.5961 - acc: 0.8094\n",
      "Epoch 26/70\n",
      "10000/10000 [==============================] - 20s 2ms/step - loss: 0.5881 - acc: 0.8106\n",
      "Epoch 27/70\n",
      "10000/10000 [==============================] - 21s 2ms/step - loss: 0.5798 - acc: 0.8163\n",
      "Epoch 28/70\n",
      "10000/10000 [==============================] - 21s 2ms/step - loss: 0.5703 - acc: 0.8198\n",
      "Epoch 29/70\n",
      "10000/10000 [==============================] - 20s 2ms/step - loss: 0.5399 - acc: 0.8303\n",
      "Epoch 30/70\n",
      "10000/10000 [==============================] - 21s 2ms/step - loss: 0.5438 - acc: 0.8311\n",
      "Epoch 31/70\n",
      "10000/10000 [==============================] - 20s 2ms/step - loss: 0.5401 - acc: 0.8288\n",
      "Epoch 32/70\n",
      "10000/10000 [==============================] - 20s 2ms/step - loss: 0.5372 - acc: 0.8276\n",
      "Epoch 33/70\n",
      "10000/10000 [==============================] - 21s 2ms/step - loss: 0.5275 - acc: 0.8352\n",
      "Epoch 34/70\n",
      "10000/10000 [==============================] - 21s 2ms/step - loss: 0.5134 - acc: 0.8377\n",
      "Epoch 35/70\n",
      "10000/10000 [==============================] - 21s 2ms/step - loss: 0.5137 - acc: 0.8380\n",
      "Epoch 36/70\n",
      "10000/10000 [==============================] - 21s 2ms/step - loss: 0.4923 - acc: 0.8413\n",
      "Epoch 37/70\n",
      "10000/10000 [==============================] - 21s 2ms/step - loss: 0.4862 - acc: 0.8440\n",
      "Epoch 38/70\n",
      "10000/10000 [==============================] - 21s 2ms/step - loss: 0.4767 - acc: 0.8504\n",
      "Epoch 39/70\n",
      "10000/10000 [==============================] - 21s 2ms/step - loss: 0.4726 - acc: 0.8490\n",
      "Epoch 40/70\n",
      "10000/10000 [==============================] - 21s 2ms/step - loss: 0.4786 - acc: 0.8450\n",
      "Epoch 41/70\n",
      "10000/10000 [==============================] - 21s 2ms/step - loss: 0.4779 - acc: 0.8491\n",
      "Epoch 42/70\n",
      "10000/10000 [==============================] - 21s 2ms/step - loss: 0.4464 - acc: 0.8543\n",
      "Epoch 43/70\n",
      "10000/10000 [==============================] - 21s 2ms/step - loss: 0.4749 - acc: 0.8478\n",
      "Epoch 44/70\n",
      "10000/10000 [==============================] - 21s 2ms/step - loss: 0.4553 - acc: 0.8511\n",
      "Epoch 45/70\n",
      "10000/10000 [==============================] - 21s 2ms/step - loss: 0.4619 - acc: 0.8499\n",
      "Epoch 46/70\n",
      "10000/10000 [==============================] - 21s 2ms/step - loss: 0.4668 - acc: 0.8526\n",
      "Epoch 47/70\n",
      "10000/10000 [==============================] - 20s 2ms/step - loss: 0.4363 - acc: 0.8571\n",
      "Epoch 48/70\n",
      "10000/10000 [==============================] - 21s 2ms/step - loss: 0.4492 - acc: 0.8584\n",
      "Epoch 49/70\n",
      "10000/10000 [==============================] - 21s 2ms/step - loss: 0.4435 - acc: 0.8563\n",
      "Epoch 50/70\n",
      "10000/10000 [==============================] - 21s 2ms/step - loss: 0.4317 - acc: 0.8563\n",
      "Epoch 51/70\n",
      "10000/10000 [==============================] - 21s 2ms/step - loss: 0.4430 - acc: 0.8587\n",
      "Epoch 52/70\n",
      "10000/10000 [==============================] - 21s 2ms/step - loss: 0.4304 - acc: 0.8632\n",
      "Epoch 53/70\n",
      "10000/10000 [==============================] - 20s 2ms/step - loss: 0.4224 - acc: 0.8660\n",
      "Epoch 54/70\n",
      "10000/10000 [==============================] - 20s 2ms/step - loss: 0.4312 - acc: 0.8604\n",
      "Epoch 55/70\n",
      "10000/10000 [==============================] - 20s 2ms/step - loss: 0.4129 - acc: 0.8651\n",
      "Epoch 56/70\n",
      "10000/10000 [==============================] - 20s 2ms/step - loss: 0.4246 - acc: 0.8641\n",
      "Epoch 57/70\n",
      "10000/10000 [==============================] - 20s 2ms/step - loss: 0.3967 - acc: 0.8720\n",
      "Epoch 58/70\n",
      "10000/10000 [==============================] - 21s 2ms/step - loss: 0.4048 - acc: 0.8694\n",
      "Epoch 59/70\n",
      "10000/10000 [==============================] - 20s 2ms/step - loss: 0.4028 - acc: 0.8692\n",
      "Epoch 60/70\n",
      "10000/10000 [==============================] - 20s 2ms/step - loss: 0.3957 - acc: 0.8717\n",
      "Epoch 61/70\n",
      "10000/10000 [==============================] - 20s 2ms/step - loss: 0.4064 - acc: 0.8708\n",
      "Epoch 62/70\n",
      "10000/10000 [==============================] - 20s 2ms/step - loss: 0.4003 - acc: 0.8724\n",
      "Epoch 63/70\n",
      "10000/10000 [==============================] - 20s 2ms/step - loss: 0.3940 - acc: 0.8711\n",
      "Epoch 64/70\n",
      "10000/10000 [==============================] - 20s 2ms/step - loss: 0.3988 - acc: 0.8710\n",
      "Epoch 65/70\n",
      "10000/10000 [==============================] - 20s 2ms/step - loss: 0.3956 - acc: 0.8720\n",
      "Epoch 66/70\n",
      "10000/10000 [==============================] - 20s 2ms/step - loss: 0.3858 - acc: 0.8754\n",
      "Epoch 67/70\n",
      "10000/10000 [==============================] - 20s 2ms/step - loss: 0.3839 - acc: 0.8747\n",
      "Epoch 68/70\n",
      "10000/10000 [==============================] - 20s 2ms/step - loss: 0.3898 - acc: 0.8743\n",
      "Epoch 69/70\n",
      "10000/10000 [==============================] - 20s 2ms/step - loss: 0.3853 - acc: 0.8742\n",
      "Epoch 70/70\n",
      "10000/10000 [==============================] - 20s 2ms/step - loss: 0.3809 - acc: 0.8766\n"
     ]
    },
    {
     "data": {
      "text/plain": [
       "<keras.callbacks.History at 0x7fecd717f8d0>"
      ]
     },
     "execution_count": 334,
     "metadata": {},
     "output_type": "execute_result"
    }
   ],
   "source": [
    "#train the model\n",
    "# model.fit(X_train, y_train, epochs=100)\n",
    "history = model.fit([X_train, np.array(X_train2)], y_train, epochs=150) #images + size"
   ]
  },
  {
   "cell_type": "code",
   "execution_count": null,
   "metadata": {},
   "outputs": [],
   "source": [
    "#validation accuracy of fully trained CNN\n",
    "model.evaluate(X_valid,y_valid)"
   ]
  },
  {
   "cell_type": "code",
   "execution_count": 369,
   "metadata": {},
   "outputs": [
    {
     "data": {
      "text/plain": [
       "array([ 5, 16, 11, ...,  7,  5, 30])"
      ]
     },
     "execution_count": 369,
     "metadata": {},
     "output_type": "execute_result"
    }
   ],
   "source": [
    "#Prediction of test labels\n",
    "pred_classes = model.predict_classes(X_test)\n",
    "pred_classes"
   ]
  },
  {
   "cell_type": "code",
   "execution_count": 408,
   "metadata": {},
   "outputs": [],
   "source": [
    "#converting predicted classes to actual labels for saving to CSV\n",
    "pred_labels = [['Id', 'Category']]\n",
    "\n",
    "for i in range(len(pred_classes)):\n",
    "    for key, value in label_dic_copy.items():\n",
    "        if value == pred_classes[i]:\n",
    "            temp = [i,key]\n",
    "            pred_labels.append(temp)\n",
    "\n",
    "pred_labels = np.asarray(pred_labels)\n",
    "# pred_labels.tofile('foo.csv',sep=',', newline = ' ')\n",
    "# with open('foo.txt', 'w') as f:\n",
    "#     writer = csv.writer(f, dialect='excel')\n",
    "#     writer.writerow(pred_labels)\n",
    "\n",
    "df = pd.DataFrame(pred_labels)\n",
    "df.to_csv(\"CNN.csv\", header = None, index = None)\n"
   ]
  },
  {
   "cell_type": "code",
   "execution_count": 407,
   "metadata": {},
   "outputs": [
    {
     "data": {
      "text/plain": [
       "array([['Id', 'Category'],\n",
       "       ['0', 'pineapple'],\n",
       "       ['1', 'pear'],\n",
       "       ...,\n",
       "       ['9997', 'skateboard'],\n",
       "       ['9998', 'pineapple'],\n",
       "       ['9999', 'mug']], dtype='<U12')"
      ]
     },
     "execution_count": 407,
     "metadata": {},
     "output_type": "execute_result"
    }
   ],
   "source": [
    "pred_labels"
   ]
  },
  {
   "cell_type": "code",
   "execution_count": 445,
   "metadata": {
    "scrolled": true
   },
   "outputs": [
    {
     "name": "stdout",
     "output_type": "stream",
     "text": [
      "prediction:  parrot\n",
      "525\n"
     ]
    },
    {
     "data": {
      "image/png": "[encoded data removed]",
      "text/plain": [
       "<Figure size 432x288 with 1 Axes>"
      ]
     },
     "metadata": {
      "needs_background": "light"
     },
     "output_type": "display_data"
    }
   ],
   "source": [
    "#Test image with predicted label from CNN\n",
    "i=34\n",
    "\n",
    "print(\"prediction: \",pred_labels[i+1][1])\n",
    "plt.imshow(image_crop_test[i])\n",
    "# print(label_test[i])\n",
    "print(image_crop_test[i].size)"
   ]
  },
  {
   "cell_type": "markdown",
   "metadata": {},
   "source": [
    "## K-Fold Cross Validation (optional)"
   ]
  },
  {
   "cell_type": "code",
   "execution_count": 149,
   "metadata": {
    "scrolled": true
   },
   "outputs": [
    {
     "name": "stdout",
     "output_type": "stream",
     "text": [
      "Fold:  1\n",
      "Train on 8000 samples, validate on 2000 samples\n",
      "Epoch 1/1\n",
      "8000/8000 [==============================] - 15s 2ms/step - loss: 2.8620 - acc: 0.2120 - val_loss: 2.2469 - val_acc: 0.3890\n",
      "Accuracy of Fold:  0.389\n",
      "Fold:  2\n",
      "Train on 8000 samples, validate on 2000 samples\n",
      "Epoch 1/1\n",
      "8000/8000 [==============================] - 20s 3ms/step - loss: 2.8818 - acc: 0.2151 - val_loss: 2.2952 - val_acc: 0.3775\n",
      "Accuracy of Fold:  0.3775\n",
      "Fold:  3\n",
      "Train on 8000 samples, validate on 2000 samples\n",
      "Epoch 1/1\n",
      "8000/8000 [==============================] - 20s 3ms/step - loss: 2.8208 - acc: 0.2254 - val_loss: 2.1658 - val_acc: 0.4220\n",
      "Accuracy of Fold:  0.422\n",
      "Fold:  4\n",
      "Train on 8000 samples, validate on 2000 samples\n",
      "Epoch 1/1\n",
      "8000/8000 [==============================] - 21s 3ms/step - loss: 2.8421 - acc: 0.2186 - val_loss: 2.2508 - val_acc: 0.3805\n",
      "Accuracy of Fold:  0.3805\n",
      "Fold:  5\n",
      "Train on 8000 samples, validate on 2000 samples\n",
      "Epoch 1/1\n",
      "8000/8000 [==============================] - 20s 3ms/step - loss: 2.8552 - acc: 0.2162 - val_loss: 2.2193 - val_acc: 0.3940\n",
      "Accuracy of Fold:  0.394\n",
      "K-Fold Accuracy:  0.3926\n"
     ]
    }
   ],
   "source": [
    "# image_norm_arr = np.asarray(image_norm)\n",
    "image_norm_new_arr = np.asarray(image_norm_new)\n",
    "X = image_norm_new_arr\n",
    "# X = image_norm_arr\n",
    "y = label_encoded\n",
    "splits = 5    # Number of folds\n",
    "kf = KFold(n_splits=splits)\n",
    "kf.get_n_splits(X)\n",
    "fold = 0\n",
    "acc_arr = []\n",
    "\n",
    "for train_index, test_index in kf.split(X):\n",
    "    \n",
    "    fold = fold + 1\n",
    "    print(\"Fold: \", fold)\n",
    "    \n",
    "    X_train, X_test = X[train_index], X[test_index]\n",
    "    y_train, y_test = y[train_index], y[test_index]\n",
    "    X_train = X_train.reshape(np.shape(X_train)[0],30,30,1)\n",
    "    X_test = X_test.reshape(np.shape(X_test)[0],30,30,1)\n",
    "    \n",
    "    #create model\n",
    "    model = Sequential()\n",
    "\n",
    "    model.add(Conv2D(32, kernel_size=(3, 3), strides=1,activation='linear',padding='same',input_shape=(30,30,1)))\n",
    "    model.add(LeakyReLU(alpha=0.1))\n",
    "    model.add(MaxPooling2D((2, 2),padding='same'))\n",
    "    model.add(Dropout(0.25))\n",
    "    model.add(Conv2D(64, (3, 3), activation='linear',padding='same'))\n",
    "    model.add(LeakyReLU(alpha=0.1))\n",
    "    model.add(MaxPooling2D(pool_size=(2, 2),padding='same'))\n",
    "    model.add(Dropout(0.25))\n",
    "    model.add(Conv2D(128, (3, 3), activation='linear',padding='same'))\n",
    "    model.add(LeakyReLU(alpha=0.1))                  \n",
    "    model.add(MaxPooling2D(pool_size=(2, 2),padding='same'))\n",
    "    model.add(Dropout(0.4))\n",
    "    model.add(Flatten())\n",
    "    model.add(Dense(128, activation='linear'))\n",
    "    model.add(LeakyReLU(alpha=0.1))           \n",
    "    model.add(Dropout(0.3))\n",
    "    model.add(Dense(31, activation='softmax'))\n",
    "    \n",
    "    model.compile(optimizer='adam', loss='categorical_crossentropy', metrics=['accuracy'])\n",
    "    \n",
    "    #train the model\n",
    "    model.fit(X_train, y_train, validation_data=(X_test, y_test), epochs=1)\n",
    "    \n",
    "    acc = model.evaluate(X_test, y_test, verbose=0)[1]\n",
    "    acc_arr.append(acc)\n",
    "    print(\"Accuracy of Fold: \", acc)\n",
    "    print(\"\")\n",
    "avg_acc = np.mean(acc_arr)\n",
    "print(\"K-Fold Average Accuracy: \", avg_acc)"
   ]
  }
 ],
 "metadata": {
  "kernelspec": {
   "display_name": "Python 3",
   "language": "python",
   "name": "python3"
  },
  "language_info": {
   "codemirror_mode": {
    "name": "ipython",
    "version": 3
   },
   "file_extension": ".py",
   "mimetype": "text/x-python",
   "name": "python",
   "nbconvert_exporter": "python",
   "pygments_lexer": "ipython3",
   "version": "3.6.6"
  }
 },
 "nbformat": 4,
 "nbformat_minor": 2
}
